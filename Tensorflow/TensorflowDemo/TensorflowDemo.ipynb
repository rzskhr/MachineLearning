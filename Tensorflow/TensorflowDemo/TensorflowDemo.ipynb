{
 "cells": [
  {
   "cell_type": "code",
   "execution_count": 1,
   "metadata": {
    "collapsed": true
   },
   "outputs": [],
   "source": [
    "# Import tensorflow\n",
    "import tensorflow as tf"
   ]
  },
  {
   "cell_type": "code",
   "execution_count": 2,
   "metadata": {},
   "outputs": [
    {
     "name": "stdout",
     "output_type": "stream",
     "text": [
      "Extracting /Users/Raj/Root/Code/TF/data/train-images-idx3-ubyte.gz\n",
      "Extracting /Users/Raj/Root/Code/TF/data/train-labels-idx1-ubyte.gz\n",
      "Extracting /Users/Raj/Root/Code/TF/data/t10k-images-idx3-ubyte.gz\n",
      "Extracting /Users/Raj/Root/Code/TF/data/t10k-labels-idx1-ubyte.gz\n"
     ]
    }
   ],
   "source": [
    "# Importing the hand written digit data set\n",
    "# input_data class is a standard python class which \n",
    "#      - Downloads the dataset \n",
    "#      - Splits into training and testing data \n",
    "#      - and formats the data\n",
    "\n",
    "# Forked from https://github.com/tensorflow/tensorflow/blob/master/tensorflow/examples/tutorials/mnist/input_data.py\n",
    "\n",
    "import input_data\n",
    "mnist = input_data.read_data_sets(\"/Users/Raj/Root/Code/TF/data/\", one_hot =True)"
   ]
  },
  {
   "cell_type": "code",
   "execution_count": 3,
   "metadata": {
    "collapsed": true
   },
   "outputs": [],
   "source": [
    "# Setting the  parameters\n",
    "\n",
    "# learning_rate Defines how fast we want to update our weights\n",
    "#    If the learning rate is too big our model might skip the solution\n",
    "#    and if it is too small we might need too many iterations to converge on the optimum result\n",
    "learning_rate = 0.01\n",
    "\n",
    "# setting the number of iterations\n",
    "training_iteration = 30\n",
    "\n",
    "batch_size = 100\n",
    "display_step = 2"
   ]
  },
  {
   "cell_type": "markdown",
   "metadata": {},
   "source": [
    "----"
   ]
  },
  {
   "cell_type": "code",
   "execution_count": null,
   "metadata": {
    "collapsed": true
   },
   "outputs": [],
   "source": [
    "# TF graph input\n",
    "\n",
    "# We first create two placeholder operations, placeholder is the variable in which we will assign the data later\n",
    "#     Its never initialized and doesn't contain any data \n",
    "# We define the type and shape of the data as the parameters\n",
    "\n",
    "# Input image is x and will be represented by a 2D tensor of numbers - [None, 784]\n",
    "#    784 is the dimensionality of the single flattend MNIST image\n",
    "# Finding an image means converting a 2D array into an 1D array, by unstacking the rows and lining them up\n",
    "x = tf.placeholder(\"float\", [None, 784]) # mnist data image of shape 28*28=784\n",
    "\n",
    "# y is The output class and will consist of a 2D tensor as well, ...\n",
    "#    ...where each row is a one_hot 10 dimensional vector, showing which digit class the correspoding ...\n",
    "#    ...MNIST image belongs to\n",
    "y = tf.placeholder(\"float\", [None, 10]) # 0-9 digits recognition => 10 classes"
   ]
  },
  {
   "cell_type": "markdown",
   "metadata": {},
   "source": [
    "##### Start building the Model"
   ]
  },
  {
   "cell_type": "code",
   "execution_count": null,
   "metadata": {
    "collapsed": true
   },
   "outputs": [],
   "source": [
    "# Define model weights and Biases\n",
    "\n",
    "# weights are the probabilities that affect how data flows in the graph and they get updated continuously ...\n",
    "#    ...during the training, so that our results get closer and closer to the right solution\n",
    "W = tf.Variable(tf.zeros([784, 10]))\n",
    "\n",
    "# The Bias lets us shift our regression line to better fit the data\n",
    "b = tf.Variable(tf.zeros([10])) "
   ]
  },
  {
   "cell_type": "markdown",
   "metadata": {},
   "source": [
    "<a href=\"https://www.youtube.com/watch?v=2FmcHiLCwTU&list=PL2-dafEMk2A7EEME489DsI468AB0wQsMV&index=1&t=151s\">Reference<a/>"
   ]
  }
 ],
 "metadata": {
  "anaconda-cloud": {},
  "kernelspec": {
   "display_name": "Python [Root]",
   "language": "python",
   "name": "Python [Root]"
  },
  "language_info": {
   "codemirror_mode": {
    "name": "ipython",
    "version": 3
   },
   "file_extension": ".py",
   "mimetype": "text/x-python",
   "name": "python",
   "nbconvert_exporter": "python",
   "pygments_lexer": "ipython3",
   "version": "3.5.2"
  }
 },
 "nbformat": 4,
 "nbformat_minor": 1
}
