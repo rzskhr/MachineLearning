{
 "cells": [
  {
   "cell_type": "markdown",
   "metadata": {},
   "source": [
    "# Classification  "
   ]
  },
  {
   "cell_type": "markdown",
   "metadata": {},
   "source": [
    "#### In this example we implement the various Machine Learning Classification Algorithms to perdict the gender using certain data points. We use Scikit learn for this."
   ]
  },
  {
   "cell_type": "markdown",
   "metadata": {},
   "source": [
    "First of all import all the dependencies we will be needing to implement the algorithms"
   ]
  },
  {
   "cell_type": "code",
   "execution_count": 1,
   "metadata": {
    "collapsed": true
   },
   "outputs": [],
   "source": [
    "#Importing the dependencies\n",
    "from sklearn import tree\n",
    "from sklearn import svm\n",
    "from sklearn.naive_bayes import GaussianNB\n",
    "from sklearn import neighbors\n",
    "from sklearn.metrics import accuracy_score"
   ]
  },
  {
   "cell_type": "markdown",
   "metadata": {},
   "source": [
    "Now we create the classifiers using the sklearn library and store them in a variable."
   ]
  },
  {
   "cell_type": "code",
   "execution_count": 2,
   "metadata": {
    "collapsed": true
   },
   "outputs": [],
   "source": [
    "# Creating the classifiers\n",
    "\n",
    "# Classifier implementing Decision tree classifier\n",
    "clfDtree = tree.DecisionTreeClassifier()\n",
    "\n",
    "# Classifier implementing Support vector machines\n",
    "clfSVM = svm.SVC()\n",
    "\n",
    "# Classifier implementing Gaussian Naive Bayes\n",
    "clfGNB = GaussianNB()\n",
    "\n",
    "# Classifier implementing the k-nearest neighbors\n",
    "clfKNN = neighbors.KNeighborsClassifier()"
   ]
  },
  {
   "cell_type": "markdown",
   "metadata": {},
   "source": [
    "Now we consider a training set on which we want to train our model and predict the results for the future test data."
   ]
  },
  {
   "cell_type": "code",
   "execution_count": 3,
   "metadata": {
    "collapsed": true
   },
   "outputs": [],
   "source": [
    "# Training set\n",
    "\n",
    "# [height, weight, shoeSize] \n",
    "X = [[181, 80, 44], [177, 70, 43], [160, 60, 38], [154, 54, 37], [166, 65, 40], \n",
    "     [190, 90, 47], [175, 64, 39], [177, 70, 40], [159, 55, 37], [171, 75, 42], [181, 85, 43]]\n",
    "\n",
    "# [male or female]\n",
    "Y = ['male', 'male', 'female', 'female', 'male', 'male', 'female', 'female', 'female', 'male', 'male']"
   ]
  },
  {
   "cell_type": "markdown",
   "metadata": {},
   "source": [
    "Now we fit our models with our training datasets, in other words we train our models"
   ]
  },
  {
   "cell_type": "code",
   "execution_count": 4,
   "metadata": {
    "collapsed": true
   },
   "outputs": [],
   "source": [
    "# Training the models on the training set data\n",
    "\n",
    "# Decision Tree\n",
    "clfDtree = clfDtree.fit(X, Y)\n",
    "\n",
    "# SVM\n",
    "clfSVM = clfSVM.fit(X, Y)\n",
    "\n",
    "# Gaussian Naive Bayes\n",
    "clfGNB = clfGNB.fit(X, Y)\n",
    "\n",
    "# K-nearest neighbors\n",
    "clfKNN = clfKNN.fit(X, Y)"
   ]
  },
  {
   "cell_type": "markdown",
   "metadata": {},
   "source": [
    "Now we consider a test data set and we predict the results using our trained models on the dataset X and Y"
   ]
  },
  {
   "cell_type": "code",
   "execution_count": 82,
   "metadata": {
    "collapsed": true
   },
   "outputs": [],
   "source": [
    "# Test set of the data [height, weight, shoeSize]\n",
    "T = [[160, 50, 38], [157, 47, 40], [190, 70, 43], [184, 69, 52], [160, 38, 40], \n",
    "     [150, 30, 27]]\n",
    "\n",
    "# Test set for the gender\n",
    "U = ['female', 'male', 'male', 'male', 'female', 'female']"
   ]
  },
  {
   "cell_type": "markdown",
   "metadata": {},
   "source": [
    "##### Now one by one we predict the output of our test set using our trained models"
   ]
  },
  {
   "cell_type": "code",
   "execution_count": 84,
   "metadata": {
    "collapsed": false
   },
   "outputs": [
    {
     "name": "stdout",
     "output_type": "stream",
     "text": [
      "['female' 'male' 'male' 'male' 'male' 'female']\n"
     ]
    }
   ],
   "source": [
    "# Prediction using Decision Tree\n",
    "\n",
    "predictionDtree = clfDtree.predict(T)\n",
    "print(predictionDtree)"
   ]
  },
  {
   "cell_type": "code",
   "execution_count": 85,
   "metadata": {
    "collapsed": false
   },
   "outputs": [
    {
     "name": "stdout",
     "output_type": "stream",
     "text": [
      "['male' 'male' 'male' 'male' 'male' 'male']\n"
     ]
    }
   ],
   "source": [
    "# Prediction using SVM\n",
    "\n",
    "predictionSVM = clfSVM.predict(T)\n",
    "print(predictionSVM)"
   ]
  },
  {
   "cell_type": "code",
   "execution_count": 86,
   "metadata": {
    "collapsed": false
   },
   "outputs": [
    {
     "name": "stdout",
     "output_type": "stream",
     "text": [
      "['female' 'female' 'male' 'male' 'female' 'male']\n"
     ]
    }
   ],
   "source": [
    "# Prediction using GNB\n",
    "\n",
    "predictionGNB = clfGNB.predict(T)\n",
    "print(predictionGNB)"
   ]
  },
  {
   "cell_type": "code",
   "execution_count": 87,
   "metadata": {
    "collapsed": false
   },
   "outputs": [
    {
     "name": "stdout",
     "output_type": "stream",
     "text": [
      "['female' 'female' 'male' 'male' 'female' 'female']\n"
     ]
    }
   ],
   "source": [
    "# Prediction using KNN\n",
    "\n",
    "predictionKNN = clfKNN.predict(T)\n",
    "print(predictionKNN)"
   ]
  },
  {
   "cell_type": "markdown",
   "metadata": {},
   "source": [
    "#### Lets compare the predictions with the expected results(U), and see which model is more accurate"
   ]
  },
  {
   "cell_type": "code",
   "execution_count": 88,
   "metadata": {
    "collapsed": false
   },
   "outputs": [
    {
     "name": "stdout",
     "output_type": "stream",
     "text": [
      "Accuracy score for Decision Tree =  0.833333333333\n"
     ]
    }
   ],
   "source": [
    "# Comparing the results \n",
    "\n",
    "print('Accuracy score for Decision Tree = ',accuracy_score(U, predictionDtree))"
   ]
  },
  {
   "cell_type": "code",
   "execution_count": 89,
   "metadata": {
    "collapsed": false
   },
   "outputs": [
    {
     "name": "stdout",
     "output_type": "stream",
     "text": [
      "Accuracy score for SVM =  0.5\n"
     ]
    }
   ],
   "source": [
    "print('Accuracy score for SVM = ',accuracy_score(U, predictionSVM))"
   ]
  },
  {
   "cell_type": "code",
   "execution_count": 90,
   "metadata": {
    "collapsed": false
   },
   "outputs": [
    {
     "name": "stdout",
     "output_type": "stream",
     "text": [
      "Accuracy score for Gaussian Naive Bayes =  0.666666666667\n"
     ]
    }
   ],
   "source": [
    "print('Accuracy score for Gaussian Naive Bayes = ',accuracy_score(U, predictionGNB))"
   ]
  },
  {
   "cell_type": "code",
   "execution_count": 91,
   "metadata": {
    "collapsed": false
   },
   "outputs": [
    {
     "name": "stdout",
     "output_type": "stream",
     "text": [
      "Accuracy score for K-nearest neighbors =  0.833333333333\n"
     ]
    }
   ],
   "source": [
    "print('Accuracy score for K-nearest neighbors = ',accuracy_score(U, predictionKNN))"
   ]
  },
  {
   "cell_type": "markdown",
   "metadata": {},
   "source": [
    "We can see from the above example that Decision tree and K-nearest neighbors did a very good job while predicting the final results as compared to the other models, their scores are equal i.e. 0.834; Gausian naive Bayes stood second last and SVM stood in the last with the least score of 0.5.\n",
    "\n",
    "<b>DTree(0.834) = KNN(0.834) > GNB(0.67) > SVM(0.5)</b>"
   ]
  }
 ],
 "metadata": {
  "kernelspec": {
   "display_name": "Python [Root]",
   "language": "python",
   "name": "Python [Root]"
  },
  "language_info": {
   "codemirror_mode": {
    "name": "ipython",
    "version": 3
   },
   "file_extension": ".py",
   "mimetype": "text/x-python",
   "name": "python",
   "nbconvert_exporter": "python",
   "pygments_lexer": "ipython3",
   "version": "3.5.2"
  }
 },
 "nbformat": 4,
 "nbformat_minor": 0
}
